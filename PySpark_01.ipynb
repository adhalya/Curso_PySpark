{
  "nbformat": 4,
  "nbformat_minor": 0,
  "metadata": {
    "colab": {
      "provenance": [],
      "authorship_tag": "ABX9TyPTjQKSKoG1apTdqqP5jLlh",
      "include_colab_link": true
    },
    "kernelspec": {
      "name": "python3",
      "display_name": "Python 3"
    },
    "language_info": {
      "name": "python"
    }
  },
  "cells": [
    {
      "cell_type": "markdown",
      "metadata": {
        "id": "view-in-github",
        "colab_type": "text"
      },
      "source": [
        "<a href=\"https://colab.research.google.com/github/adhalya/Curso_PySpark/blob/main/PySpark_01.ipynb\" target=\"_parent\"><img src=\"https://colab.research.google.com/assets/colab-badge.svg\" alt=\"Open In Colab\"/></a>"
      ]
    },
    {
      "cell_type": "code",
      "execution_count": 5,
      "metadata": {
        "id": "bk9wTCR1x6wU"
      },
      "outputs": [],
      "source": [
        "import os\n",
        "import sys\n",
        "\n",
        "os.environ['PYSPARK_PYTHON'] = sys.executable\n",
        "os.environ['PYSPARK_DRIVER_PYTHON'] = sys.executable\n",
        "# Resolver problema de versão python x pyspark worker"
      ]
    },
    {
      "cell_type": "code",
      "source": [
        "from pyspark.sql import SparkSession # Iniciar sessão do PySpark\n",
        "from pyspark.sql.functions import * # Importa algumas funções\n",
        "from pyspark.sql.types import * # Funções que transformam colunas em tipos específicos"
      ],
      "metadata": {
        "id": "1mRUUKGRyn23"
      },
      "execution_count": 6,
      "outputs": []
    },
    {
      "cell_type": "markdown",
      "source": [
        "**Criar/Iniciar Sessão PySpark**"
      ],
      "metadata": {
        "id": "5s1av8lay35T"
      }
    },
    {
      "cell_type": "code",
      "source": [
        "spark = (\n",
        "    SparkSession.builder\n",
        "    .master('local')\n",
        "    .appName('PySpark_01')\n",
        "    .getOrCreate()\n",
        ")"
      ],
      "metadata": {
        "id": "rCUahCp0y9Fd"
      },
      "execution_count": 7,
      "outputs": []
    },
    {
      "cell_type": "markdown",
      "source": [
        "**Criar df/ Ler arquivo**"
      ],
      "metadata": {
        "id": "GGN9OsnKzgJT"
      }
    },
    {
      "cell_type": "code",
      "source": [
        "df = spark.read.csv('wc2018-players.csv', header=True, inferSchema=True) # Cria cabeçalho e define o tipo de cada coluna, se não tiver vai considerar todas como string"
      ],
      "metadata": {
        "id": "2GihXcxbzpHv"
      },
      "execution_count": 8,
      "outputs": []
    },
    {
      "cell_type": "markdown",
      "source": [
        "**Exibir dataframe**"
      ],
      "metadata": {
        "id": "XZ1-Djgg1tZn"
      }
    },
    {
      "cell_type": "code",
      "source": [
        "df.show(5)"
      ],
      "metadata": {
        "colab": {
          "base_uri": "https://localhost:8080/"
        },
        "id": "sQ6d2F7y1vxA",
        "outputId": "99489c8a-45b5-4479-c8ce-c2179595630e"
      },
      "execution_count": 9,
      "outputs": [
        {
          "output_type": "stream",
          "name": "stdout",
          "text": [
            "+---------+---+----+------------------+----------+----------+--------------------+------+------+\n",
            "|     Team|  #|Pos.| FIFA Popular Name|Birth Date|Shirt Name|                Club|Height|Weight|\n",
            "+---------+---+----+------------------+----------+----------+--------------------+------+------+\n",
            "|Argentina|  3|  DF|TAGLIAFICO Nicolas|31.08.1992|TAGLIAFICO|      AFC Ajax (NED)|   169|    65|\n",
            "|Argentina| 22|  MF|    PAVON Cristian|21.01.1996|     PAVÓN|CA Boca Juniors (...|   169|    65|\n",
            "|Argentina| 15|  MF|    LANZINI Manuel|15.02.1993|   LANZINI|West Ham United F...|   167|    66|\n",
            "|Argentina| 18|  DF|    SALVIO Eduardo|13.07.1990|    SALVIO|    SL Benfica (POR)|   167|    69|\n",
            "|Argentina| 10|  FW|      MESSI Lionel|24.06.1987|     MESSI|  FC Barcelona (ESP)|   170|    72|\n",
            "+---------+---+----+------------------+----------+----------+--------------------+------+------+\n",
            "only showing top 5 rows\n",
            "\n"
          ]
        }
      ]
    },
    {
      "cell_type": "markdown",
      "source": [
        "**Verificar tipo de colunas**"
      ],
      "metadata": {
        "id": "-WwkZU0S2DOJ"
      }
    },
    {
      "cell_type": "code",
      "source": [
        "df.printSchema()"
      ],
      "metadata": {
        "colab": {
          "base_uri": "https://localhost:8080/"
        },
        "id": "0jdr2j8i2Fq9",
        "outputId": "5ab9b2d6-f982-4cb1-9183-2d1573708dd6"
      },
      "execution_count": 10,
      "outputs": [
        {
          "output_type": "stream",
          "name": "stdout",
          "text": [
            "root\n",
            " |-- Team: string (nullable = true)\n",
            " |-- #: integer (nullable = true)\n",
            " |-- Pos.: string (nullable = true)\n",
            " |-- FIFA Popular Name: string (nullable = true)\n",
            " |-- Birth Date: string (nullable = true)\n",
            " |-- Shirt Name: string (nullable = true)\n",
            " |-- Club: string (nullable = true)\n",
            " |-- Height: integer (nullable = true)\n",
            " |-- Weight: integer (nullable = true)\n",
            "\n"
          ]
        }
      ]
    },
    {
      "cell_type": "markdown",
      "source": [
        "**Verificando dados nulos**"
      ],
      "metadata": {
        "id": "pvK6fg-q2oBv"
      }
    },
    {
      "cell_type": "code",
      "source": [
        "df.toPandas().isna().sum() #toPandas não funciona bem para df's maiores"
      ],
      "metadata": {
        "colab": {
          "base_uri": "https://localhost:8080/",
          "height": 366
        },
        "id": "aJEifEpw2r7l",
        "outputId": "d9857084-7d9c-497f-f8a7-f54c287f61df"
      },
      "execution_count": 11,
      "outputs": [
        {
          "output_type": "execute_result",
          "data": {
            "text/plain": [
              "Team                 0\n",
              "#                    0\n",
              "Pos.                 0\n",
              "FIFA Popular Name    0\n",
              "Birth Date           0\n",
              "Shirt Name           0\n",
              "Club                 0\n",
              "Height               0\n",
              "Weight               0\n",
              "dtype: int64"
            ],
            "text/html": [
              "<div>\n",
              "<style scoped>\n",
              "    .dataframe tbody tr th:only-of-type {\n",
              "        vertical-align: middle;\n",
              "    }\n",
              "\n",
              "    .dataframe tbody tr th {\n",
              "        vertical-align: top;\n",
              "    }\n",
              "\n",
              "    .dataframe thead th {\n",
              "        text-align: right;\n",
              "    }\n",
              "</style>\n",
              "<table border=\"1\" class=\"dataframe\">\n",
              "  <thead>\n",
              "    <tr style=\"text-align: right;\">\n",
              "      <th></th>\n",
              "      <th>0</th>\n",
              "    </tr>\n",
              "  </thead>\n",
              "  <tbody>\n",
              "    <tr>\n",
              "      <th>Team</th>\n",
              "      <td>0</td>\n",
              "    </tr>\n",
              "    <tr>\n",
              "      <th>#</th>\n",
              "      <td>0</td>\n",
              "    </tr>\n",
              "    <tr>\n",
              "      <th>Pos.</th>\n",
              "      <td>0</td>\n",
              "    </tr>\n",
              "    <tr>\n",
              "      <th>FIFA Popular Name</th>\n",
              "      <td>0</td>\n",
              "    </tr>\n",
              "    <tr>\n",
              "      <th>Birth Date</th>\n",
              "      <td>0</td>\n",
              "    </tr>\n",
              "    <tr>\n",
              "      <th>Shirt Name</th>\n",
              "      <td>0</td>\n",
              "    </tr>\n",
              "    <tr>\n",
              "      <th>Club</th>\n",
              "      <td>0</td>\n",
              "    </tr>\n",
              "    <tr>\n",
              "      <th>Height</th>\n",
              "      <td>0</td>\n",
              "    </tr>\n",
              "    <tr>\n",
              "      <th>Weight</th>\n",
              "      <td>0</td>\n",
              "    </tr>\n",
              "  </tbody>\n",
              "</table>\n",
              "</div><br><label><b>dtype:</b> int64</label>"
            ]
          },
          "metadata": {},
          "execution_count": 11
        }
      ]
    },
    {
      "cell_type": "markdown",
      "source": [
        "**Renomeando colunas**"
      ],
      "metadata": {
        "id": "S-458jLR3j7Y"
      }
    },
    {
      "cell_type": "code",
      "source": [
        "df = df.withColumnRenamed('Team', 'Selecao').withColumnRenamed('#', 'Numero').withColumnRenamed('Pos.', 'Posicao')\\\n",
        ".withColumnRenamed('FIFA Popular Name', 'Nome_FIFA').withColumnRenamed('Birth Date', 'Nascimento')\\\n",
        ".withColumnRenamed('Shirt Name', 'Nome Camiseta').withColumnRenamed('Club', 'Time')\\\n",
        ".withColumnRenamed('Height', 'Altura').withColumnRenamed('Weight', 'Peso')\n",
        "df.show(5)"
      ],
      "metadata": {
        "colab": {
          "base_uri": "https://localhost:8080/"
        },
        "id": "k_0JA7Zm3nuk",
        "outputId": "11f848ab-e42a-46ff-efd3-2ee22d5709e9"
      },
      "execution_count": 12,
      "outputs": [
        {
          "output_type": "stream",
          "name": "stdout",
          "text": [
            "+---------+------+-------+------------------+----------+-------------+--------------------+------+----+\n",
            "|  Selecao|Numero|Posicao|         Nome_FIFA|Nascimento|Nome Camiseta|                Time|Altura|Peso|\n",
            "+---------+------+-------+------------------+----------+-------------+--------------------+------+----+\n",
            "|Argentina|     3|     DF|TAGLIAFICO Nicolas|31.08.1992|   TAGLIAFICO|      AFC Ajax (NED)|   169|  65|\n",
            "|Argentina|    22|     MF|    PAVON Cristian|21.01.1996|        PAVÓN|CA Boca Juniors (...|   169|  65|\n",
            "|Argentina|    15|     MF|    LANZINI Manuel|15.02.1993|      LANZINI|West Ham United F...|   167|  66|\n",
            "|Argentina|    18|     DF|    SALVIO Eduardo|13.07.1990|       SALVIO|    SL Benfica (POR)|   167|  69|\n",
            "|Argentina|    10|     FW|      MESSI Lionel|24.06.1987|        MESSI|  FC Barcelona (ESP)|   170|  72|\n",
            "+---------+------+-------+------------------+----------+-------------+--------------------+------+----+\n",
            "only showing top 5 rows\n",
            "\n"
          ]
        }
      ]
    },
    {
      "cell_type": "code",
      "source": [
        "for coluna in df.columns:\n",
        "  print(coluna, df.filter(df[coluna].isNull()).count())\n",
        "\n",
        "# Esse for não considera pontos, por isso foi necessário renomear as colunas para ele funcionar\n",
        "# Como ele vai ser executado linha por linha, o processo é demorado em dataframes grandes"
      ],
      "metadata": {
        "colab": {
          "base_uri": "https://localhost:8080/"
        },
        "id": "ZfZmp9aV3LVA",
        "outputId": "9dd4d6c2-d68f-481a-f2db-43fceab8fb23"
      },
      "execution_count": 13,
      "outputs": [
        {
          "output_type": "stream",
          "name": "stdout",
          "text": [
            "Selecao 0\n",
            "Numero 0\n",
            "Posicao 0\n",
            "Nome_FIFA 0\n",
            "Nascimento 0\n",
            "Nome Camiseta 0\n",
            "Time 0\n",
            "Altura 0\n",
            "Peso 0\n"
          ]
        }
      ]
    },
    {
      "cell_type": "markdown",
      "source": [
        "**Selecionar Colunas**"
      ],
      "metadata": {
        "id": "pNjf7kC46Gkd"
      }
    },
    {
      "cell_type": "code",
      "source": [
        "df.select('Selecao','Nome_FIFA').show(5)\n",
        "# Apesar de executar mais rápido, selecionando dessa forma, impossibilita de usar o ALIAS"
      ],
      "metadata": {
        "colab": {
          "base_uri": "https://localhost:8080/"
        },
        "id": "0yAAa0vZ6I8q",
        "outputId": "445ebfa1-d9f1-4de7-b6ef-cc1a04eccba4"
      },
      "execution_count": 14,
      "outputs": [
        {
          "output_type": "stream",
          "name": "stdout",
          "text": [
            "+---------+------------------+\n",
            "|  Selecao|         Nome_FIFA|\n",
            "+---------+------------------+\n",
            "|Argentina|TAGLIAFICO Nicolas|\n",
            "|Argentina|    PAVON Cristian|\n",
            "|Argentina|    LANZINI Manuel|\n",
            "|Argentina|    SALVIO Eduardo|\n",
            "|Argentina|      MESSI Lionel|\n",
            "+---------+------------------+\n",
            "only showing top 5 rows\n",
            "\n"
          ]
        }
      ]
    },
    {
      "cell_type": "code",
      "source": [
        "df.select(col('Selecao'), col('Altura')).show(5)"
      ],
      "metadata": {
        "colab": {
          "base_uri": "https://localhost:8080/"
        },
        "id": "yUSIbdmS8MQT",
        "outputId": "a4e987b6-b2b4-4985-a5b8-0f6e9b9dec6d"
      },
      "execution_count": 15,
      "outputs": [
        {
          "output_type": "stream",
          "name": "stdout",
          "text": [
            "+---------+------+\n",
            "|  Selecao|Altura|\n",
            "+---------+------+\n",
            "|Argentina|   169|\n",
            "|Argentina|   169|\n",
            "|Argentina|   167|\n",
            "|Argentina|   167|\n",
            "|Argentina|   170|\n",
            "+---------+------+\n",
            "only showing top 5 rows\n",
            "\n"
          ]
        }
      ]
    },
    {
      "cell_type": "code",
      "source": [
        "df.select(df['Selecao']).show(5)"
      ],
      "metadata": {
        "colab": {
          "base_uri": "https://localhost:8080/"
        },
        "id": "XslnUFiE8Xem",
        "outputId": "71cec52e-bca7-43cc-854c-0235948463c0"
      },
      "execution_count": 16,
      "outputs": [
        {
          "output_type": "stream",
          "name": "stdout",
          "text": [
            "+---------+\n",
            "|  Selecao|\n",
            "+---------+\n",
            "|Argentina|\n",
            "|Argentina|\n",
            "|Argentina|\n",
            "|Argentina|\n",
            "|Argentina|\n",
            "+---------+\n",
            "only showing top 5 rows\n",
            "\n"
          ]
        }
      ]
    },
    {
      "cell_type": "markdown",
      "source": [
        "**Selecionar Colunas com ALIAS**"
      ],
      "metadata": {
        "id": "0qk0TvdD807b"
      }
    },
    {
      "cell_type": "code",
      "source": [
        "df.select(df['Selecao'].alias('Time')).show(5)"
      ],
      "metadata": {
        "colab": {
          "base_uri": "https://localhost:8080/"
        },
        "id": "z5QMnJXz80l7",
        "outputId": "555ceca0-5dfe-4044-90aa-5975906f37e6"
      },
      "execution_count": 17,
      "outputs": [
        {
          "output_type": "stream",
          "name": "stdout",
          "text": [
            "+---------+\n",
            "|     Time|\n",
            "+---------+\n",
            "|Argentina|\n",
            "|Argentina|\n",
            "|Argentina|\n",
            "|Argentina|\n",
            "|Argentina|\n",
            "+---------+\n",
            "only showing top 5 rows\n",
            "\n"
          ]
        }
      ]
    },
    {
      "cell_type": "code",
      "source": [
        "df.select('Selecao Nome_FIFA Altura'.split()).show(5)\n",
        "# Não é muito utilizado"
      ],
      "metadata": {
        "colab": {
          "base_uri": "https://localhost:8080/"
        },
        "id": "VupNMvou9fIh",
        "outputId": "525f1e7f-8c5b-4b2a-8dd4-f2278cf5549f"
      },
      "execution_count": 18,
      "outputs": [
        {
          "output_type": "stream",
          "name": "stdout",
          "text": [
            "+---------+------------------+------+\n",
            "|  Selecao|         Nome_FIFA|Altura|\n",
            "+---------+------------------+------+\n",
            "|Argentina|TAGLIAFICO Nicolas|   169|\n",
            "|Argentina|    PAVON Cristian|   169|\n",
            "|Argentina|    LANZINI Manuel|   167|\n",
            "|Argentina|    SALVIO Eduardo|   167|\n",
            "|Argentina|      MESSI Lionel|   170|\n",
            "+---------+------------------+------+\n",
            "only showing top 5 rows\n",
            "\n"
          ]
        }
      ]
    },
    {
      "cell_type": "markdown",
      "source": [
        "**Organizar Select**"
      ],
      "metadata": {
        "id": "75oW1RoC9yxH"
      }
    },
    {
      "cell_type": "code",
      "source": [
        "df.select('Nome_FIFA', 'Peso', 'Altura').show(5)\n",
        "\n",
        "# O código acima tem a intenção de demonstrar que é possível organizar as colunas de acordo com a ordem selecionada"
      ],
      "metadata": {
        "colab": {
          "base_uri": "https://localhost:8080/"
        },
        "id": "Ov7kltop91CX",
        "outputId": "cbdd46ca-83d8-4a4f-e6da-bfc941689a20"
      },
      "execution_count": 19,
      "outputs": [
        {
          "output_type": "stream",
          "name": "stdout",
          "text": [
            "+------------------+----+------+\n",
            "|         Nome_FIFA|Peso|Altura|\n",
            "+------------------+----+------+\n",
            "|TAGLIAFICO Nicolas|  65|   169|\n",
            "|    PAVON Cristian|  65|   169|\n",
            "|    LANZINI Manuel|  66|   167|\n",
            "|    SALVIO Eduardo|  69|   167|\n",
            "|      MESSI Lionel|  72|   170|\n",
            "+------------------+----+------+\n",
            "only showing top 5 rows\n",
            "\n"
          ]
        }
      ]
    },
    {
      "cell_type": "markdown",
      "source": [
        "**Filtrar DF**"
      ],
      "metadata": {
        "id": "q5g5hJbiEKzy"
      }
    },
    {
      "cell_type": "markdown",
      "source": [
        "Se atribuir o filtro ao dataframe, os dados originais irão se perder, o que deve fazer caso não queira essa opção é não realizar a atribuição, apenas visualizar os dados em tela, ou, guardar o filtro em uma nova variável."
      ],
      "metadata": {
        "id": "GzvnBlTqK03g"
      }
    },
    {
      "cell_type": "code",
      "source": [
        "df.filter('Selecao == \"Brazil\"').show(10)\n",
        "\n",
        "# Com a seleção acima, não é possível filtrar nomes de colunas com espaço"
      ],
      "metadata": {
        "colab": {
          "base_uri": "https://localhost:8080/"
        },
        "id": "jrXWQL4IEyBH",
        "outputId": "d6b34b73-17ef-4088-8e30-2652abad7fcd"
      },
      "execution_count": 20,
      "outputs": [
        {
          "output_type": "stream",
          "name": "stdout",
          "text": [
            "+-------+------+-------+-----------------+----------+-------------+--------------------+------+----+\n",
            "|Selecao|Numero|Posicao|        Nome_FIFA|Nascimento|Nome Camiseta|                Time|Altura|Peso|\n",
            "+-------+------+-------+-----------------+----------+-------------+--------------------+------+----+\n",
            "| Brazil|    18|     MF|             FRED|05.03.1993|         FRED|FC Shakhtar Donet...|   169|  64|\n",
            "| Brazil|    21|     FW|           TAISON|13.01.1988|       TAISON|FC Shakhtar Donet...|   172|  64|\n",
            "| Brazil|    17|     MF|      FERNANDINHO|04.05.1985|  FERNANDINHO|Manchester City F...|   179|  67|\n",
            "| Brazil|    22|     DF|           FAGNER|11.06.1989|       FAGNER|SC Corinthians (BRA)|   168|  67|\n",
            "| Brazil|    10|     FW|           NEYMAR|05.02.1992|    NEYMAR JR|Paris Saint-Germa...|   175|  68|\n",
            "| Brazil|    11|     MF|PHILIPPE COUTINHO|12.06.1992|  P. COUTINHO|  FC Barcelona (ESP)|   172|  68|\n",
            "| Brazil|     7|     FW|    DOUGLAS COSTA|14.09.1990|     D. COSTA|   Juventus FC (ITA)|   182|  70|\n",
            "| Brazil|     6|     DF|      FILIPE LUIS|09.08.1985|  FILIPE LUIS|Atletico Madrid (...|   182|  73|\n",
            "| Brazil|     9|     FW|    GABRIEL JESUS|03.04.1997|     G. JESUS|Manchester City F...|   175|  73|\n",
            "| Brazil|    13|     DF|       MARQUINHOS|14.05.1994|   MARQUINHOS|Paris Saint-Germa...|   183|  75|\n",
            "+-------+------+-------+-----------------+----------+-------------+--------------------+------+----+\n",
            "only showing top 10 rows\n",
            "\n"
          ]
        }
      ]
    },
    {
      "cell_type": "code",
      "source": [
        "df.filter(col('Nome Camiseta') == 'FRED').show()\n",
        "# Utilizando o filtro dessa forma é possível encontrar colunas com espaços"
      ],
      "metadata": {
        "colab": {
          "base_uri": "https://localhost:8080/"
        },
        "id": "ymOjt8pfFdZM",
        "outputId": "58c97b61-813c-489d-90f6-967246c46280"
      },
      "execution_count": 21,
      "outputs": [
        {
          "output_type": "stream",
          "name": "stdout",
          "text": [
            "+-------+------+-------+---------+----------+-------------+--------------------+------+----+\n",
            "|Selecao|Numero|Posicao|Nome_FIFA|Nascimento|Nome Camiseta|                Time|Altura|Peso|\n",
            "+-------+------+-------+---------+----------+-------------+--------------------+------+----+\n",
            "| Brazil|    18|     MF|     FRED|05.03.1993|         FRED|FC Shakhtar Donet...|   169|  64|\n",
            "+-------+------+-------+---------+----------+-------------+--------------------+------+----+\n",
            "\n"
          ]
        }
      ]
    },
    {
      "cell_type": "markdown",
      "source": [
        "**Filtrar DF com 2 condições (AND / &)**"
      ],
      "metadata": {
        "id": "INnhf1UYF0TJ"
      }
    },
    {
      "cell_type": "code",
      "source": [
        "df.show(5)"
      ],
      "metadata": {
        "id": "Vd1S8b2JF8Lr",
        "colab": {
          "base_uri": "https://localhost:8080/"
        },
        "outputId": "0057ab80-1f48-4ad8-99c6-295814627055"
      },
      "execution_count": 22,
      "outputs": [
        {
          "output_type": "stream",
          "name": "stdout",
          "text": [
            "+---------+------+-------+------------------+----------+-------------+--------------------+------+----+\n",
            "|  Selecao|Numero|Posicao|         Nome_FIFA|Nascimento|Nome Camiseta|                Time|Altura|Peso|\n",
            "+---------+------+-------+------------------+----------+-------------+--------------------+------+----+\n",
            "|Argentina|     3|     DF|TAGLIAFICO Nicolas|31.08.1992|   TAGLIAFICO|      AFC Ajax (NED)|   169|  65|\n",
            "|Argentina|    22|     MF|    PAVON Cristian|21.01.1996|        PAVÓN|CA Boca Juniors (...|   169|  65|\n",
            "|Argentina|    15|     MF|    LANZINI Manuel|15.02.1993|      LANZINI|West Ham United F...|   167|  66|\n",
            "|Argentina|    18|     DF|    SALVIO Eduardo|13.07.1990|       SALVIO|    SL Benfica (POR)|   167|  69|\n",
            "|Argentina|    10|     FW|      MESSI Lionel|24.06.1987|        MESSI|  FC Barcelona (ESP)|   170|  72|\n",
            "+---------+------+-------+------------------+----------+-------------+--------------------+------+----+\n",
            "only showing top 5 rows\n",
            "\n"
          ]
        }
      ]
    },
    {
      "cell_type": "code",
      "source": [
        "df.filter((col('Selecao') == \"Argentina\") & (col('Altura') > 180) & (col('Peso') >= 85)).show()"
      ],
      "metadata": {
        "colab": {
          "base_uri": "https://localhost:8080/"
        },
        "id": "XYgVmW_-LIQR",
        "outputId": "a202e620-e1c7-4255-e073-f534d0cf4499"
      },
      "execution_count": 23,
      "outputs": [
        {
          "output_type": "stream",
          "name": "stdout",
          "text": [
            "+---------+------+-------+--------------+----------+-------------+--------------------+------+----+\n",
            "|  Selecao|Numero|Posicao|     Nome_FIFA|Nascimento|Nome Camiseta|                Time|Altura|Peso|\n",
            "+---------+------+-------+--------------+----------+-------------+--------------------+------+----+\n",
            "|Argentina|     6|     DF|FAZIO Federico|17.03.1987|        FAZIO|       AS Roma (ITA)|   199|  85|\n",
            "|Argentina|    12|     GK| ARMANI Franco|16.10.1986|       ARMANI|CA River Plate (ARG)|   189|  85|\n",
            "|Argentina|     1|     GK| GUZMAN Nahuel|10.02.1986|       GUZMÁN|   Tigres UANL (MEX)|   192|  90|\n",
            "+---------+------+-------+--------------+----------+-------------+--------------------+------+----+\n",
            "\n"
          ]
        }
      ]
    },
    {
      "cell_type": "code",
      "source": [
        "df.filter('Selecao == \"Brazil\"').filter(col('Numero') > 20).show(5)"
      ],
      "metadata": {
        "colab": {
          "base_uri": "https://localhost:8080/"
        },
        "id": "pLrWCrVcLb_q",
        "outputId": "ad4d98fd-2262-49e4-bfd5-05cbdf23b46b"
      },
      "execution_count": 24,
      "outputs": [
        {
          "output_type": "stream",
          "name": "stdout",
          "text": [
            "+-------+------+-------+---------+----------+-------------+--------------------+------+----+\n",
            "|Selecao|Numero|Posicao|Nome_FIFA|Nascimento|Nome Camiseta|                Time|Altura|Peso|\n",
            "+-------+------+-------+---------+----------+-------------+--------------------+------+----+\n",
            "| Brazil|    21|     FW|   TAISON|13.01.1988|       TAISON|FC Shakhtar Donet...|   172|  64|\n",
            "| Brazil|    22|     DF|   FAGNER|11.06.1989|       FAGNER|SC Corinthians (BRA)|   168|  67|\n",
            "| Brazil|    23|     GK|  EDERSON|17.08.1993|      EDERSON|Manchester City F...|   188|  86|\n",
            "+-------+------+-------+---------+----------+-------------+--------------------+------+----+\n",
            "\n"
          ]
        }
      ]
    },
    {
      "cell_type": "markdown",
      "source": [
        "**Filtrar DF com 2 condições (OR/|)**"
      ],
      "metadata": {
        "id": "lVxVh1SMMm0v"
      }
    },
    {
      "cell_type": "code",
      "source": [
        "df.filter((col('Nome_FIFA') == 'MESSI Lionel') | (col('Nome_FIFA') == 'SALVIO Eduardo') | (col('Altura') == 199)).show(5)"
      ],
      "metadata": {
        "colab": {
          "base_uri": "https://localhost:8080/"
        },
        "id": "9xNI2QqsMua9",
        "outputId": "3d062c98-5405-48ca-a4f8-ca6ce237c0ee"
      },
      "execution_count": 25,
      "outputs": [
        {
          "output_type": "stream",
          "name": "stdout",
          "text": [
            "+---------+------+-------+----------------+----------+-------------+------------------+------+----+\n",
            "|  Selecao|Numero|Posicao|       Nome_FIFA|Nascimento|Nome Camiseta|              Time|Altura|Peso|\n",
            "+---------+------+-------+----------------+----------+-------------+------------------+------+----+\n",
            "|Argentina|    18|     DF|  SALVIO Eduardo|13.07.1990|       SALVIO|  SL Benfica (POR)|   167|  69|\n",
            "|Argentina|    10|     FW|    MESSI Lionel|24.06.1987|        MESSI|FC Barcelona (ESP)|   170|  72|\n",
            "|Argentina|     6|     DF|  FAZIO Federico|17.03.1987|        FAZIO|     AS Roma (ITA)|   199|  85|\n",
            "|  Belgium|     1|     GK|COURTOIS Thibaut|11.05.1992|     COURTOIS|  Chelsea FC (ENG)|   199|  91|\n",
            "+---------+------+-------+----------------+----------+-------------+------------------+------+----+\n",
            "\n"
          ]
        }
      ]
    },
    {
      "cell_type": "markdown",
      "source": [
        "**Filtrar DF combinando And e OR (& / |)**"
      ],
      "metadata": {
        "id": "CvrVrJCIOLST"
      }
    },
    {
      "cell_type": "code",
      "source": [
        "df.filter((col('Selecao') == 'Brazil') & (col('Posicao') == 'DF') | (col('Altura') == 199) & (col('Selecao') == 'Belgium')).show()"
      ],
      "metadata": {
        "colab": {
          "base_uri": "https://localhost:8080/"
        },
        "id": "JzvsuRr9OSfz",
        "outputId": "6550c561-0937-49d6-944f-2a070cbeb1db"
      },
      "execution_count": 26,
      "outputs": [
        {
          "output_type": "stream",
          "name": "stdout",
          "text": [
            "+-------+------+-------+----------------+----------+-------------+--------------------+------+----+\n",
            "|Selecao|Numero|Posicao|       Nome_FIFA|Nascimento|Nome Camiseta|                Time|Altura|Peso|\n",
            "+-------+------+-------+----------------+----------+-------------+--------------------+------+----+\n",
            "|Belgium|     1|     GK|COURTOIS Thibaut|11.05.1992|     COURTOIS|    Chelsea FC (ENG)|   199|  91|\n",
            "| Brazil|    22|     DF|          FAGNER|11.06.1989|       FAGNER|SC Corinthians (BRA)|   168|  67|\n",
            "| Brazil|     6|     DF|     FILIPE LUIS|09.08.1985|  FILIPE LUIS|Atletico Madrid (...|   182|  73|\n",
            "| Brazil|    13|     DF|      MARQUINHOS|14.05.1994|   MARQUINHOS|Paris Saint-Germa...|   183|  75|\n",
            "| Brazil|     3|     DF|         MIRANDA|07.09.1984|      MIRANDA|FC Internazionale...|   186|  78|\n",
            "| Brazil|    14|     DF|          DANILO|15.07.1991|       DANILO|Manchester City F...|   184|  78|\n",
            "| Brazil|     2|     DF|    THIAGO SILVA|22.09.1984|     T. SILVA|Paris Saint-Germa...|   183|  79|\n",
            "| Brazil|    12|     DF|         MARCELO|12.05.1988|      MARCELO|Real Madrid CF (ESP)|   174|  80|\n",
            "| Brazil|     4|     DF|   PEDRO GEROMEL|21.09.1985|      GEROMEL|   Grêmio FBPA (BRA)|   190|  84|\n",
            "+-------+------+-------+----------------+----------+-------------+--------------------+------+----+\n",
            "\n"
          ]
        }
      ]
    },
    {
      "cell_type": "markdown",
      "source": [
        "**Criar novas colunas (usando função lit)**"
      ],
      "metadata": {
        "id": "BdB1TkmTvNh8"
      }
    },
    {
      "cell_type": "code",
      "source": [
        "df.withColumn('Coluna_nova', lit(col('Altura') - col('Peso'))).show(5)\n",
        "# O lit (literalmente) vai agregar algum valor a uma nova coluna, sendo possível realizar cálculos"
      ],
      "metadata": {
        "colab": {
          "base_uri": "https://localhost:8080/"
        },
        "id": "FwqwN6gkvWLb",
        "outputId": "71122f27-0ac4-4640-c5d1-dae0519cf49f"
      },
      "execution_count": 27,
      "outputs": [
        {
          "output_type": "stream",
          "name": "stdout",
          "text": [
            "+---------+------+-------+------------------+----------+-------------+--------------------+------+----+-----------+\n",
            "|  Selecao|Numero|Posicao|         Nome_FIFA|Nascimento|Nome Camiseta|                Time|Altura|Peso|Coluna_nova|\n",
            "+---------+------+-------+------------------+----------+-------------+--------------------+------+----+-----------+\n",
            "|Argentina|     3|     DF|TAGLIAFICO Nicolas|31.08.1992|   TAGLIAFICO|      AFC Ajax (NED)|   169|  65|        104|\n",
            "|Argentina|    22|     MF|    PAVON Cristian|21.01.1996|        PAVÓN|CA Boca Juniors (...|   169|  65|        104|\n",
            "|Argentina|    15|     MF|    LANZINI Manuel|15.02.1993|      LANZINI|West Ham United F...|   167|  66|        101|\n",
            "|Argentina|    18|     DF|    SALVIO Eduardo|13.07.1990|       SALVIO|    SL Benfica (POR)|   167|  69|         98|\n",
            "|Argentina|    10|     FW|      MESSI Lionel|24.06.1987|        MESSI|  FC Barcelona (ESP)|   170|  72|         98|\n",
            "+---------+------+-------+------------------+----------+-------------+--------------------+------+----+-----------+\n",
            "only showing top 5 rows\n",
            "\n"
          ]
        }
      ]
    },
    {
      "cell_type": "markdown",
      "source": [
        "**Criar coluna condicional (usando função substring)**"
      ],
      "metadata": {
        "id": "HeCSWdo_xW43"
      }
    },
    {
      "cell_type": "code",
      "source": [
        "df.withColumn('Sub', substring(col('Selecao'), 1, 3)).show(5)"
      ],
      "metadata": {
        "colab": {
          "base_uri": "https://localhost:8080/"
        },
        "id": "DlY1CmT4xIHo",
        "outputId": "8d94fcd7-7764-48eb-8e49-c16d009fbde8"
      },
      "execution_count": 28,
      "outputs": [
        {
          "output_type": "stream",
          "name": "stdout",
          "text": [
            "+---------+------+-------+------------------+----------+-------------+--------------------+------+----+---+\n",
            "|  Selecao|Numero|Posicao|         Nome_FIFA|Nascimento|Nome Camiseta|                Time|Altura|Peso|Sub|\n",
            "+---------+------+-------+------------------+----------+-------------+--------------------+------+----+---+\n",
            "|Argentina|     3|     DF|TAGLIAFICO Nicolas|31.08.1992|   TAGLIAFICO|      AFC Ajax (NED)|   169|  65|Arg|\n",
            "|Argentina|    22|     MF|    PAVON Cristian|21.01.1996|        PAVÓN|CA Boca Juniors (...|   169|  65|Arg|\n",
            "|Argentina|    15|     MF|    LANZINI Manuel|15.02.1993|      LANZINI|West Ham United F...|   167|  66|Arg|\n",
            "|Argentina|    18|     DF|    SALVIO Eduardo|13.07.1990|       SALVIO|    SL Benfica (POR)|   167|  69|Arg|\n",
            "|Argentina|    10|     FW|      MESSI Lionel|24.06.1987|        MESSI|  FC Barcelona (ESP)|   170|  72|Arg|\n",
            "+---------+------+-------+------------------+----------+-------------+--------------------+------+----+---+\n",
            "only showing top 5 rows\n",
            "\n"
          ]
        }
      ]
    },
    {
      "cell_type": "code",
      "source": [
        "df.show(10)"
      ],
      "metadata": {
        "colab": {
          "base_uri": "https://localhost:8080/"
        },
        "id": "vSa2YrswybAI",
        "outputId": "960fefb0-cb97-4cdf-f72b-3f7265da7b72"
      },
      "execution_count": 29,
      "outputs": [
        {
          "output_type": "stream",
          "name": "stdout",
          "text": [
            "+---------+------+-------+------------------+----------+-------------+--------------------+------+----+\n",
            "|  Selecao|Numero|Posicao|         Nome_FIFA|Nascimento|Nome Camiseta|                Time|Altura|Peso|\n",
            "+---------+------+-------+------------------+----------+-------------+--------------------+------+----+\n",
            "|Argentina|     3|     DF|TAGLIAFICO Nicolas|31.08.1992|   TAGLIAFICO|      AFC Ajax (NED)|   169|  65|\n",
            "|Argentina|    22|     MF|    PAVON Cristian|21.01.1996|        PAVÓN|CA Boca Juniors (...|   169|  65|\n",
            "|Argentina|    15|     MF|    LANZINI Manuel|15.02.1993|      LANZINI|West Ham United F...|   167|  66|\n",
            "|Argentina|    18|     DF|    SALVIO Eduardo|13.07.1990|       SALVIO|    SL Benfica (POR)|   167|  69|\n",
            "|Argentina|    10|     FW|      MESSI Lionel|24.06.1987|        MESSI|  FC Barcelona (ESP)|   170|  72|\n",
            "|Argentina|     4|     DF|  ANSALDI Cristian|20.09.1986|      ANSALDI|     Torino FC (ITA)|   181|  73|\n",
            "|Argentina|     5|     MF|      BIGLIA Lucas|30.01.1986|       BIGLIA|      AC Milan (ITA)|   175|  73|\n",
            "|Argentina|     7|     MF|       BANEGA Ever|29.06.1988|       BANEGA|    Sevilla FC (ESP)|   175|  73|\n",
            "|Argentina|    14|     DF| MASCHERANO Javier|08.06.1984|   MASCHERANO|Hebei China Fortu...|   174|  73|\n",
            "|Argentina|    21|     FW|      DYBALA Paulo|15.11.1993|       DYBALA|   Juventus FC (ITA)|   177|  73|\n",
            "+---------+------+-------+------------------+----------+-------------+--------------------+------+----+\n",
            "only showing top 10 rows\n",
            "\n"
          ]
        }
      ]
    },
    {
      "cell_type": "code",
      "source": [
        "df = df.withColumn('Ano', substring('Nascimento', -4,4))"
      ],
      "metadata": {
        "id": "jAJrpmBjykEn"
      },
      "execution_count": 30,
      "outputs": []
    },
    {
      "cell_type": "code",
      "source": [
        "df.show(5)"
      ],
      "metadata": {
        "colab": {
          "base_uri": "https://localhost:8080/"
        },
        "id": "7MX-ju1l0ihS",
        "outputId": "d6b8756c-201b-45d3-c01c-f431965024a7"
      },
      "execution_count": 31,
      "outputs": [
        {
          "output_type": "stream",
          "name": "stdout",
          "text": [
            "+---------+------+-------+------------------+----------+-------------+--------------------+------+----+----+\n",
            "|  Selecao|Numero|Posicao|         Nome_FIFA|Nascimento|Nome Camiseta|                Time|Altura|Peso| Ano|\n",
            "+---------+------+-------+------------------+----------+-------------+--------------------+------+----+----+\n",
            "|Argentina|     3|     DF|TAGLIAFICO Nicolas|31.08.1992|   TAGLIAFICO|      AFC Ajax (NED)|   169|  65|1992|\n",
            "|Argentina|    22|     MF|    PAVON Cristian|21.01.1996|        PAVÓN|CA Boca Juniors (...|   169|  65|1996|\n",
            "|Argentina|    15|     MF|    LANZINI Manuel|15.02.1993|      LANZINI|West Ham United F...|   167|  66|1993|\n",
            "|Argentina|    18|     DF|    SALVIO Eduardo|13.07.1990|       SALVIO|    SL Benfica (POR)|   167|  69|1990|\n",
            "|Argentina|    10|     FW|      MESSI Lionel|24.06.1987|        MESSI|  FC Barcelona (ESP)|   170|  72|1987|\n",
            "+---------+------+-------+------------------+----------+-------------+--------------------+------+----+----+\n",
            "only showing top 5 rows\n",
            "\n"
          ]
        }
      ]
    },
    {
      "cell_type": "markdown",
      "source": [
        "**Criar coluna condicional (concat / concat_ws)**"
      ],
      "metadata": {
        "id": "7gqxChQD23ZD"
      }
    },
    {
      "cell_type": "code",
      "source": [
        "df.withColumn('Concat', concat('Selecao', 'Nome_FIFA')).show(5)\n"
      ],
      "metadata": {
        "colab": {
          "base_uri": "https://localhost:8080/"
        },
        "id": "jReVCEb-29GW",
        "outputId": "57b52b52-d86a-4c30-a7d3-c8c3e6cfc9ed"
      },
      "execution_count": 32,
      "outputs": [
        {
          "output_type": "stream",
          "name": "stdout",
          "text": [
            "+---------+------+-------+------------------+----------+-------------+--------------------+------+----+----+--------------------+\n",
            "|  Selecao|Numero|Posicao|         Nome_FIFA|Nascimento|Nome Camiseta|                Time|Altura|Peso| Ano|              Concat|\n",
            "+---------+------+-------+------------------+----------+-------------+--------------------+------+----+----+--------------------+\n",
            "|Argentina|     3|     DF|TAGLIAFICO Nicolas|31.08.1992|   TAGLIAFICO|      AFC Ajax (NED)|   169|  65|1992|ArgentinaTAGLIAFI...|\n",
            "|Argentina|    22|     MF|    PAVON Cristian|21.01.1996|        PAVÓN|CA Boca Juniors (...|   169|  65|1996|ArgentinaPAVON Cr...|\n",
            "|Argentina|    15|     MF|    LANZINI Manuel|15.02.1993|      LANZINI|West Ham United F...|   167|  66|1993|ArgentinaLANZINI ...|\n",
            "|Argentina|    18|     DF|    SALVIO Eduardo|13.07.1990|       SALVIO|    SL Benfica (POR)|   167|  69|1990|ArgentinaSALVIO E...|\n",
            "|Argentina|    10|     FW|      MESSI Lionel|24.06.1987|        MESSI|  FC Barcelona (ESP)|   170|  72|1987|ArgentinaMESSI Li...|\n",
            "+---------+------+-------+------------------+----------+-------------+--------------------+------+----+----+--------------------+\n",
            "only showing top 5 rows\n",
            "\n"
          ]
        }
      ]
    },
    {
      "cell_type": "code",
      "source": [
        "df.withColumn('Separador', concat_ws(' - ', 'Selecao', 'Numero', 'Posicao')).show(5)"
      ],
      "metadata": {
        "colab": {
          "base_uri": "https://localhost:8080/"
        },
        "id": "3hFLUMJa3P_T",
        "outputId": "b940610b-4c4d-465a-83d0-09e74bc6d85d"
      },
      "execution_count": 33,
      "outputs": [
        {
          "output_type": "stream",
          "name": "stdout",
          "text": [
            "+---------+------+-------+------------------+----------+-------------+--------------------+------+----+----+-------------------+\n",
            "|  Selecao|Numero|Posicao|         Nome_FIFA|Nascimento|Nome Camiseta|                Time|Altura|Peso| Ano|          Separador|\n",
            "+---------+------+-------+------------------+----------+-------------+--------------------+------+----+----+-------------------+\n",
            "|Argentina|     3|     DF|TAGLIAFICO Nicolas|31.08.1992|   TAGLIAFICO|      AFC Ajax (NED)|   169|  65|1992| Argentina - 3 - DF|\n",
            "|Argentina|    22|     MF|    PAVON Cristian|21.01.1996|        PAVÓN|CA Boca Juniors (...|   169|  65|1996|Argentina - 22 - MF|\n",
            "|Argentina|    15|     MF|    LANZINI Manuel|15.02.1993|      LANZINI|West Ham United F...|   167|  66|1993|Argentina - 15 - MF|\n",
            "|Argentina|    18|     DF|    SALVIO Eduardo|13.07.1990|       SALVIO|    SL Benfica (POR)|   167|  69|1990|Argentina - 18 - DF|\n",
            "|Argentina|    10|     FW|      MESSI Lionel|24.06.1987|        MESSI|  FC Barcelona (ESP)|   170|  72|1987|Argentina - 10 - FW|\n",
            "+---------+------+-------+------------------+----------+-------------+--------------------+------+----+----+-------------------+\n",
            "only showing top 5 rows\n",
            "\n"
          ]
        }
      ]
    },
    {
      "cell_type": "markdown",
      "source": [
        "**Alterar tipo de coluna**"
      ],
      "metadata": {
        "id": "k0KPAcdq3mT_"
      }
    },
    {
      "cell_type": "code",
      "source": [
        "df.show(5)"
      ],
      "metadata": {
        "colab": {
          "base_uri": "https://localhost:8080/"
        },
        "id": "9tlIPPpj3o5H",
        "outputId": "5d4a56c7-5280-4ba3-a027-bcbb1aeafc81"
      },
      "execution_count": 34,
      "outputs": [
        {
          "output_type": "stream",
          "name": "stdout",
          "text": [
            "+---------+------+-------+------------------+----------+-------------+--------------------+------+----+----+\n",
            "|  Selecao|Numero|Posicao|         Nome_FIFA|Nascimento|Nome Camiseta|                Time|Altura|Peso| Ano|\n",
            "+---------+------+-------+------------------+----------+-------------+--------------------+------+----+----+\n",
            "|Argentina|     3|     DF|TAGLIAFICO Nicolas|31.08.1992|   TAGLIAFICO|      AFC Ajax (NED)|   169|  65|1992|\n",
            "|Argentina|    22|     MF|    PAVON Cristian|21.01.1996|        PAVÓN|CA Boca Juniors (...|   169|  65|1996|\n",
            "|Argentina|    15|     MF|    LANZINI Manuel|15.02.1993|      LANZINI|West Ham United F...|   167|  66|1993|\n",
            "|Argentina|    18|     DF|    SALVIO Eduardo|13.07.1990|       SALVIO|    SL Benfica (POR)|   167|  69|1990|\n",
            "|Argentina|    10|     FW|      MESSI Lionel|24.06.1987|        MESSI|  FC Barcelona (ESP)|   170|  72|1987|\n",
            "+---------+------+-------+------------------+----------+-------------+--------------------+------+----+----+\n",
            "only showing top 5 rows\n",
            "\n"
          ]
        }
      ]
    },
    {
      "cell_type": "code",
      "source": [
        "df.printSchema()"
      ],
      "metadata": {
        "colab": {
          "base_uri": "https://localhost:8080/"
        },
        "id": "8KQHczVh3syv",
        "outputId": "deab5eaa-a703-47dc-940d-34e09fa6d1d5"
      },
      "execution_count": 35,
      "outputs": [
        {
          "output_type": "stream",
          "name": "stdout",
          "text": [
            "root\n",
            " |-- Selecao: string (nullable = true)\n",
            " |-- Numero: integer (nullable = true)\n",
            " |-- Posicao: string (nullable = true)\n",
            " |-- Nome_FIFA: string (nullable = true)\n",
            " |-- Nascimento: string (nullable = true)\n",
            " |-- Nome Camiseta: string (nullable = true)\n",
            " |-- Time: string (nullable = true)\n",
            " |-- Altura: integer (nullable = true)\n",
            " |-- Peso: integer (nullable = true)\n",
            " |-- Ano: string (nullable = true)\n",
            "\n"
          ]
        }
      ]
    },
    {
      "cell_type": "code",
      "source": [
        "df = df.withColumn('Ano', col('Ano').cast(IntegerType()))"
      ],
      "metadata": {
        "id": "SpTJAYjP3zig"
      },
      "execution_count": 36,
      "outputs": []
    },
    {
      "cell_type": "code",
      "source": [
        "df.printSchema()"
      ],
      "metadata": {
        "colab": {
          "base_uri": "https://localhost:8080/"
        },
        "id": "51PVEgIN4W2Z",
        "outputId": "86c3f267-4bee-4376-dcd0-2e50fb25205c"
      },
      "execution_count": 37,
      "outputs": [
        {
          "output_type": "stream",
          "name": "stdout",
          "text": [
            "root\n",
            " |-- Selecao: string (nullable = true)\n",
            " |-- Numero: integer (nullable = true)\n",
            " |-- Posicao: string (nullable = true)\n",
            " |-- Nome_FIFA: string (nullable = true)\n",
            " |-- Nascimento: string (nullable = true)\n",
            " |-- Nome Camiseta: string (nullable = true)\n",
            " |-- Time: string (nullable = true)\n",
            " |-- Altura: integer (nullable = true)\n",
            " |-- Peso: integer (nullable = true)\n",
            " |-- Ano: integer (nullable = true)\n",
            "\n"
          ]
        }
      ]
    },
    {
      "cell_type": "markdown",
      "source": [
        "**Desafio: Coluna Nascimento**\n",
        "- Colocar como DateType\n",
        "- Dica:\n",
        "- O formato precias estar em YYYY.MM.DD"
      ],
      "metadata": {
        "id": "5EfOX_VE4nsz"
      }
    },
    {
      "cell_type": "code",
      "source": [
        "df.show(5)"
      ],
      "metadata": {
        "colab": {
          "base_uri": "https://localhost:8080/"
        },
        "id": "AiuUTnq343K5",
        "outputId": "3b41292c-b291-420a-c17f-d1e453ad9635"
      },
      "execution_count": 38,
      "outputs": [
        {
          "output_type": "stream",
          "name": "stdout",
          "text": [
            "+---------+------+-------+------------------+----------+-------------+--------------------+------+----+----+\n",
            "|  Selecao|Numero|Posicao|         Nome_FIFA|Nascimento|Nome Camiseta|                Time|Altura|Peso| Ano|\n",
            "+---------+------+-------+------------------+----------+-------------+--------------------+------+----+----+\n",
            "|Argentina|     3|     DF|TAGLIAFICO Nicolas|31.08.1992|   TAGLIAFICO|      AFC Ajax (NED)|   169|  65|1992|\n",
            "|Argentina|    22|     MF|    PAVON Cristian|21.01.1996|        PAVÓN|CA Boca Juniors (...|   169|  65|1996|\n",
            "|Argentina|    15|     MF|    LANZINI Manuel|15.02.1993|      LANZINI|West Ham United F...|   167|  66|1993|\n",
            "|Argentina|    18|     DF|    SALVIO Eduardo|13.07.1990|       SALVIO|    SL Benfica (POR)|   167|  69|1990|\n",
            "|Argentina|    10|     FW|      MESSI Lionel|24.06.1987|        MESSI|  FC Barcelona (ESP)|   170|  72|1987|\n",
            "+---------+------+-------+------------------+----------+-------------+--------------------+------+----+----+\n",
            "only showing top 5 rows\n",
            "\n"
          ]
        }
      ]
    },
    {
      "cell_type": "code",
      "source": [
        "dia = udf(lambda data: data.split('.')[0])"
      ],
      "metadata": {
        "id": "s4Mdtc8v4_X3"
      },
      "execution_count": 39,
      "outputs": []
    },
    {
      "cell_type": "code",
      "source": [
        "df = df.withColumn('Dia', dia('Nascimento'))"
      ],
      "metadata": {
        "id": "TLYp2BCj7nQJ"
      },
      "execution_count": 40,
      "outputs": []
    },
    {
      "cell_type": "code",
      "source": [
        "mes = udf(lambda data: data.split('.')[1])\n",
        "\n",
        "df = df.withColumn('Mês', mes('Nascimento'))"
      ],
      "metadata": {
        "id": "M2oMJIyM72H_"
      },
      "execution_count": 41,
      "outputs": []
    },
    {
      "cell_type": "code",
      "source": [
        "df.show(5)"
      ],
      "metadata": {
        "colab": {
          "base_uri": "https://localhost:8080/"
        },
        "id": "tQA59gSY8Rbl",
        "outputId": "40d25ad5-58ae-48b7-cf9e-d98183122449"
      },
      "execution_count": 42,
      "outputs": [
        {
          "output_type": "stream",
          "name": "stdout",
          "text": [
            "+---------+------+-------+------------------+----------+-------------+--------------------+------+----+----+---+---+\n",
            "|  Selecao|Numero|Posicao|         Nome_FIFA|Nascimento|Nome Camiseta|                Time|Altura|Peso| Ano|Dia|Mês|\n",
            "+---------+------+-------+------------------+----------+-------------+--------------------+------+----+----+---+---+\n",
            "|Argentina|     3|     DF|TAGLIAFICO Nicolas|31.08.1992|   TAGLIAFICO|      AFC Ajax (NED)|   169|  65|1992| 31| 08|\n",
            "|Argentina|    22|     MF|    PAVON Cristian|21.01.1996|        PAVÓN|CA Boca Juniors (...|   169|  65|1996| 21| 01|\n",
            "|Argentina|    15|     MF|    LANZINI Manuel|15.02.1993|      LANZINI|West Ham United F...|   167|  66|1993| 15| 02|\n",
            "|Argentina|    18|     DF|    SALVIO Eduardo|13.07.1990|       SALVIO|    SL Benfica (POR)|   167|  69|1990| 13| 07|\n",
            "|Argentina|    10|     FW|      MESSI Lionel|24.06.1987|        MESSI|  FC Barcelona (ESP)|   170|  72|1987| 24| 06|\n",
            "+---------+------+-------+------------------+----------+-------------+--------------------+------+----+----+---+---+\n",
            "only showing top 5 rows\n",
            "\n"
          ]
        }
      ]
    },
    {
      "cell_type": "code",
      "source": [
        "df.printSchema()"
      ],
      "metadata": {
        "colab": {
          "base_uri": "https://localhost:8080/"
        },
        "id": "QXmfs9DA8Y0y",
        "outputId": "c2bd3e79-6f79-489a-dad7-96f016838571"
      },
      "execution_count": 43,
      "outputs": [
        {
          "output_type": "stream",
          "name": "stdout",
          "text": [
            "root\n",
            " |-- Selecao: string (nullable = true)\n",
            " |-- Numero: integer (nullable = true)\n",
            " |-- Posicao: string (nullable = true)\n",
            " |-- Nome_FIFA: string (nullable = true)\n",
            " |-- Nascimento: string (nullable = true)\n",
            " |-- Nome Camiseta: string (nullable = true)\n",
            " |-- Time: string (nullable = true)\n",
            " |-- Altura: integer (nullable = true)\n",
            " |-- Peso: integer (nullable = true)\n",
            " |-- Ano: integer (nullable = true)\n",
            " |-- Dia: string (nullable = true)\n",
            " |-- Mês: string (nullable = true)\n",
            "\n"
          ]
        }
      ]
    },
    {
      "cell_type": "code",
      "source": [
        "df = df.withColumn('Data_Nascimento', concat_ws('-', 'Ano', 'Mês', 'Dia'))"
      ],
      "metadata": {
        "id": "UOaZD68y8a1y"
      },
      "execution_count": 44,
      "outputs": []
    },
    {
      "cell_type": "code",
      "source": [
        "df = df.withColumn('Data_Nascimento', col('Data_Nascimento').cast('date'))"
      ],
      "metadata": {
        "id": "fgYGqmSO9e0e"
      },
      "execution_count": 45,
      "outputs": []
    },
    {
      "cell_type": "code",
      "source": [
        "#df.withColumn('Data_Nascimento', to_date('Data_Nascimento', 'yyyy-MM-dd')).show(5)"
      ],
      "metadata": {
        "id": "OdVEqAG083qE"
      },
      "execution_count": 46,
      "outputs": []
    },
    {
      "cell_type": "code",
      "source": [
        "df.printSchema()"
      ],
      "metadata": {
        "colab": {
          "base_uri": "https://localhost:8080/"
        },
        "id": "rEkurfPQ-ETB",
        "outputId": "21d9a80b-fd7a-4586-c131-9e0aaf3bec9e"
      },
      "execution_count": 47,
      "outputs": [
        {
          "output_type": "stream",
          "name": "stdout",
          "text": [
            "root\n",
            " |-- Selecao: string (nullable = true)\n",
            " |-- Numero: integer (nullable = true)\n",
            " |-- Posicao: string (nullable = true)\n",
            " |-- Nome_FIFA: string (nullable = true)\n",
            " |-- Nascimento: string (nullable = true)\n",
            " |-- Nome Camiseta: string (nullable = true)\n",
            " |-- Time: string (nullable = true)\n",
            " |-- Altura: integer (nullable = true)\n",
            " |-- Peso: integer (nullable = true)\n",
            " |-- Ano: integer (nullable = true)\n",
            " |-- Dia: string (nullable = true)\n",
            " |-- Mês: string (nullable = true)\n",
            " |-- Data_Nascimento: date (nullable = true)\n",
            "\n"
          ]
        }
      ]
    }
  ]
}